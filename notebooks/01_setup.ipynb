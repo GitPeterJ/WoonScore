{
 "cells": [
  {
   "cell_type": "markdown",
   "metadata": {},
   "source": [
    "# WoonScore Setup and Testing\n",
    "\n",
    "This notebook verifies that all core dependencies are installed and working correctly."
   ]
  },
  {
   "cell_type": "markdown",
   "metadata": {},
   "source": [
    "## Import Core Libraries\n",
    "\n",
    "Let's import all the core dependencies to verify they're installed correctly."
   ]
  },
  {
   "cell_type": "code",
   "execution_count": null,
   "metadata": {},
   "outputs": [],
   "source": [
    "import h3\n",
    "import geopandas as gpd\n",
    "import osmnx as ox\n",
    "import pyrosm\n",
    "import shapely\n",
    "from shapely.geometry import Point, Polygon\n",
    "\n",
    "print(\"✓ All imports successful!\")\n",
    "print(f\"\\nLibrary Versions:\")\n",
    "print(f\"  h3: {h3.__version__}\")\n",
    "print(f\"  geopandas: {gpd.__version__}\")\n",
    "print(f\"  osmnx: {ox.__version__}\")\n",
    "print(f\"  pyrosm: installed\")\n",
    "print(f\"  shapely: {shapely.__version__}\")"
   ]
  },
  {
   "cell_type": "markdown",
   "metadata": {},
   "source": [
    "## Test H3 Hexagon System\n",
    "\n",
    "Test basic H3 functionality with a sample location in the Netherlands."
   ]
  },
  {
   "cell_type": "code",
   "execution_count": null,
   "metadata": {},
   "outputs": [],
   "source": [
    "# Amsterdam coordinates\n",
    "lat, lng = 52.3676, 4.9041\n",
    "resolution = 9\n",
    "\n",
    "# Get H3 cell for Amsterdam center\n",
    "h3_cell = h3.latlng_to_cell(lat, lng, resolution)\n",
    "print(f\"H3 cell for Amsterdam center (resolution {resolution}): {h3_cell}\")\n",
    "\n",
    "# Get neighbors\n",
    "neighbors = h3.grid_ring(h3_cell, k=1)\n",
    "print(f\"Number of neighboring cells: {len(neighbors)}\")"
   ]
  },
  {
   "cell_type": "markdown",
   "metadata": {},
   "source": [
    "## Test GeoPandas\n",
    "\n",
    "Create a simple GeoDataFrame with sample data."
   ]
  },
  {
   "cell_type": "code",
   "execution_count": null,
   "metadata": {},
   "outputs": [],
   "source": [
    "# Create sample points for major Dutch cities\n",
    "cities = {\n",
    "    'name': ['Amsterdam', 'Rotterdam', 'The Hague', 'Utrecht'],\n",
    "    'lat': [52.3676, 51.9244, 52.0705, 52.0907],\n",
    "    'lng': [4.9041, 4.4777, 4.3007, 5.1214]\n",
    "}\n",
    "\n",
    "# Create geometry\n",
    "geometry = [Point(lng, lat) for lat, lng in zip(cities['lat'], cities['lng'])]\n",
    "\n",
    "# Create GeoDataFrame\n",
    "gdf = gpd.GeoDataFrame(cities, geometry=geometry, crs='EPSG:4326')\n",
    "print(\"Sample GeoDataFrame:\")\n",
    "print(gdf)"
   ]
  },
  {
   "cell_type": "markdown",
   "metadata": {},
   "source": [
    "## Next Steps\n",
    "\n",
    "With the setup complete, you can now:\n",
    "\n",
    "1. Download and process OpenStreetMap data using OSMnx and Pyrosm\n",
    "2. Create H3 hexagon grids for regions of interest\n",
    "3. Calculate livability scores based on:\n",
    "   - Mobility (public transport access, road networks)\n",
    "   - Amenities (shops, schools, healthcare, parks)\n",
    "   - Air quality data\n",
    "4. Visualize results using GeoPandas plotting capabilities"
   ]
  }
 ],
 "metadata": {
  "kernelspec": {
   "display_name": "Python 3",
   "language": "python",
   "name": "python3"
  },
  "language_info": {
   "codemirror_mode": {
    "name": "ipython",
    "version": 3
   },
   "file_extension": ".py",
   "mimetype": "text/x-python",
   "name": "python",
   "nbconvert_exporter": "python",
   "pygments_lexer": "ipython3",
   "version": "3.12.0"
  }
 },
 "nbformat": 4,
 "nbformat_minor": 4
}
